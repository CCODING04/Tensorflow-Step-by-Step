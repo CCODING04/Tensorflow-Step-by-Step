{
 "cells": [
  {
   "cell_type": "code",
   "execution_count": 4,
   "metadata": {},
   "outputs": [],
   "source": [
    "import numpy as np\n",
    "import matplotlib.pyplot as plt\n",
    "import tensorflow as tf\n",
    "%matplotlib inline"
   ]
  },
  {
   "cell_type": "markdown",
   "metadata": {},
   "source": [
    "先查看当前使用的TensorFlow版本号，因为现在TensorFlow已经到了2.0版本，前期后期的接口还是有很多差异的，所以我们需要先确定版本号"
   ]
  },
  {
   "cell_type": "code",
   "execution_count": 5,
   "metadata": {},
   "outputs": [
    {
     "name": "stdout",
     "output_type": "stream",
     "text": [
      "当前使用tf版本号为1.10.0\n",
      "\n",
      "当前安装tf路径为['F:\\\\Library\\\\Anaconda3\\\\lib\\\\site-packages\\\\tensorflow', 'F:\\\\Library\\\\Anaconda3\\\\lib\\\\site-packages\\\\tensorflow\\\\python\\\\estimator\\\\api']\n",
      "\n"
     ]
    }
   ],
   "source": [
    "# 查看TensorFlow版本号\n",
    "print(\"当前使用tf版本号为%s\\n\"%tf.__version__)\n",
    "# 查看TensorFlow安装路径\n",
    "print(\"当前安装tf路径为%s\\n\"%tf.__path__)"
   ]
  },
  {
   "cell_type": "markdown",
   "metadata": {},
   "source": [
    "这里我们导入TensorFlow教程里面自带的mnist数据集  \n",
    "因为网络等原因，可以去mnist官网[(点击)](http://yann.lecun.com/exdb/mnist/)下载数据集放入MNIST_data文件夹下"
   ]
  },
  {
   "cell_type": "code",
   "execution_count": 12,
   "metadata": {},
   "outputs": [
    {
     "name": "stdout",
     "output_type": "stream",
     "text": [
      "WARNING:tensorflow:From F:\\Library\\Anaconda3\\lib\\site-packages\\tensorflow\\contrib\\learn\\python\\learn\\datasets\\mnist.py:262: extract_images (from tensorflow.contrib.learn.python.learn.datasets.mnist) is deprecated and will be removed in a future version.\n",
      "Instructions for updating:\n",
      "Please use tf.data to implement this functionality.\n",
      "Extracting MNIST_data/train-images-idx3-ubyte.gz\n",
      "WARNING:tensorflow:From F:\\Library\\Anaconda3\\lib\\site-packages\\tensorflow\\contrib\\learn\\python\\learn\\datasets\\mnist.py:267: extract_labels (from tensorflow.contrib.learn.python.learn.datasets.mnist) is deprecated and will be removed in a future version.\n",
      "Instructions for updating:\n",
      "Please use tf.data to implement this functionality.\n",
      "Extracting MNIST_data/train-labels-idx1-ubyte.gz\n",
      "WARNING:tensorflow:From F:\\Library\\Anaconda3\\lib\\site-packages\\tensorflow\\contrib\\learn\\python\\learn\\datasets\\mnist.py:110: dense_to_one_hot (from tensorflow.contrib.learn.python.learn.datasets.mnist) is deprecated and will be removed in a future version.\n",
      "Instructions for updating:\n",
      "Please use tf.one_hot on tensors.\n",
      "Extracting MNIST_data/t10k-images-idx3-ubyte.gz\n",
      "Extracting MNIST_data/t10k-labels-idx1-ubyte.gz\n",
      "WARNING:tensorflow:From F:\\Library\\Anaconda3\\lib\\site-packages\\tensorflow\\contrib\\learn\\python\\learn\\datasets\\mnist.py:290: DataSet.__init__ (from tensorflow.contrib.learn.python.learn.datasets.mnist) is deprecated and will be removed in a future version.\n",
      "Instructions for updating:\n",
      "Please use alternatives such as official/mnist/dataset.py from tensorflow/models.\n",
      "Datasets(train=<tensorflow.contrib.learn.python.learn.datasets.mnist.DataSet object at 0x000001C26DC7D8D0>, validation=<tensorflow.contrib.learn.python.learn.datasets.mnist.DataSet object at 0x000001C26DC7D550>, test=<tensorflow.contrib.learn.python.learn.datasets.mnist.DataSet object at 0x000001C26DC7D630>)\n"
     ]
    }
   ],
   "source": [
    "from tensorflow.examples.tutorials.mnist import input_data\n",
    "mnist = input_data.read_data_sets('MNIST_data/', one_hot=True)\n",
    "print(mnist)"
   ]
  },
  {
   "cell_type": "code",
   "execution_count": 14,
   "metadata": {},
   "outputs": [
    {
     "data": {
      "text/plain": [
       "tensorflow.contrib.learn.python.learn.datasets.base.Datasets"
      ]
     },
     "execution_count": 14,
     "metadata": {},
     "output_type": "execute_result"
    }
   ],
   "source": [
    "# 这里可以看一下mnsit的数据结构\n",
    "type(mnist)"
   ]
  },
  {
   "cell_type": "markdown",
   "metadata": {},
   "source": [
    "数据集中包含了 55000 行的训练数据集（mnist.train）、5000 行验证集（mnist.validation）和 10000 行的测试数据集（mnist.test）  \n",
    "  \n",
    "关于怎么处理图片数据会专门用一节讲解"
   ]
  },
  {
   "cell_type": "code",
   "execution_count": 22,
   "metadata": {},
   "outputs": [
    {
     "data": {
      "text/plain": [
       "['__add__',\n",
       " '__contains__',\n",
       " '__getitem__',\n",
       " '__getnewargs__',\n",
       " '__iter__',\n",
       " '__len__',\n",
       " '__module__',\n",
       " '__mul__',\n",
       " '__rmul__',\n",
       " '__slots__',\n",
       " '_asdict',\n",
       " '_fields',\n",
       " '_make',\n",
       " '_replace',\n",
       " '_source',\n",
       " 'count',\n",
       " 'index',\n",
       " 'test',\n",
       " 'train',\n",
       " 'validation']"
      ]
     },
     "execution_count": 22,
     "metadata": {},
     "output_type": "execute_result"
    }
   ],
   "source": [
    "# 查看mnist有哪些内容组成\n",
    "func_list = dir(mnist)\n",
    "[func_list.remove(x) for x in dir(object)]\n",
    "func_list"
   ]
  },
  {
   "cell_type": "code",
   "execution_count": 38,
   "metadata": {},
   "outputs": [
    {
     "data": {
      "image/png": "[encoded data removed]",
      "text/plain": [
       "<matplotlib.figure.Figure at 0x1c26df308d0>"
      ]
     },
     "metadata": {},
     "output_type": "display_data"
    }
   ],
   "source": [
    "# 显示前20张图片样式，图片大小为28*28\n",
    "plt.figure(figsize=(15,3))\n",
    "for i in range(20):\n",
    "    plt.subplot(2,10,i+1)\n",
    "    tmp = mnist.train.images[i,:].reshape(28,28)\n",
    "    plt.imshow(tmp,cmap='gray')\n",
    "    plt.axis('off')\n",
    "plt.tight_layout()\n",
    "plt.show()"
   ]
  },
  {
   "cell_type": "code",
   "execution_count": 41,
   "metadata": {},
   "outputs": [
    {
     "name": "stdout",
     "output_type": "stream",
     "text": [
      "图片类别个数为10\n"
     ]
    }
   ],
   "source": [
    "num_classes = len(mnist.train.labels[0])\n",
    "print(\"图片类别个数为%d\"%num_classes)"
   ]
  },
  {
   "cell_type": "markdown",
   "metadata": {},
   "source": [
    "之前在mnist的demo都是讲28*28图像拉伸成向量，在训练，这里我们直接用cnn"
   ]
  },
  {
   "cell_type": "code",
   "execution_count": 42,
   "metadata": {},
   "outputs": [],
   "source": [
    "# 定义placeholder,存放输入和标签\n",
    "tf_x = tf.placeholder(tf.float32, [None, 28*28])\n",
    "image = tf.reshape(tf_x, [-1, 28, 28, 1])      #(batch, height, width, channel)\n",
    "tf_y = tf.placeholder(tf.int32,[None, 10])"
   ]
  },
  {
   "cell_type": "code",
   "execution_count": 54,
   "metadata": {},
   "outputs": [],
   "source": [
    "# 加上DropOut，防止过拟合\n",
    "dropout_placeholder = tf.placeholder(tf.float32)"
   ]
  },
  {
   "cell_type": "code",
   "execution_count": 43,
   "metadata": {},
   "outputs": [],
   "source": [
    "conv1 = tf.layers.conv2d(   # shape (28, 28, 1)\n",
    "    inputs=image,\n",
    "    filters=16,\n",
    "    kernel_size=5, \n",
    "    strides=1,\n",
    "    padding='same',\n",
    "    activation=tf.nn.relu\n",
    ")           # -> (28, 28, 16)"
   ]
  },
  {
   "cell_type": "code",
   "execution_count": 44,
   "metadata": {},
   "outputs": [],
   "source": [
    "pool1 = tf.layers.max_pooling2d(\n",
    "    conv1,\n",
    "    pool_size=2,\n",
    "    strides=2,\n",
    ")           # -> (14, 14, 16)"
   ]
  },
  {
   "cell_type": "code",
   "execution_count": 45,
   "metadata": {},
   "outputs": [],
   "source": [
    "conv2 = tf.layers.conv2d(pool1, 32, 5, 1, 'same', activation=tf.nn.relu)    # -> (14, 14, 32)"
   ]
  },
  {
   "cell_type": "code",
   "execution_count": 46,
   "metadata": {},
   "outputs": [],
   "source": [
    "pool2 = tf.layers.max_pooling2d(conv2, 2, 2)    # -> (7, 7, 32)"
   ]
  },
  {
   "cell_type": "code",
   "execution_count": 52,
   "metadata": {},
   "outputs": [],
   "source": [
    "flat = tf.layers.flatten(pool2)          # -> (7*7*32, )\n",
    "fc = tf.layers.dense(flat, 7*7*32*10, activation=tf.nn.relu)"
   ]
  },
  {
   "cell_type": "code",
   "execution_count": 56,
   "metadata": {},
   "outputs": [],
   "source": [
    "droupout_fc = tf.layers.dropout(fc, dropout_placeholder)\n",
    "logits = tf.layers.dense(droupout_fc, 10)              # output layer\n",
    "predicted_y = tf.argmax(logits, 1)"
   ]
  },
  {
   "cell_type": "code",
   "execution_count": 63,
   "metadata": {},
   "outputs": [],
   "source": [
    "# learning rate\n",
    "LR = 0.001\n",
    "BATCH_SIZE = 50"
   ]
  },
  {
   "cell_type": "code",
   "execution_count": 59,
   "metadata": {},
   "outputs": [],
   "source": [
    "loss = tf.losses.softmax_cross_entropy(onehot_labels=tf_y, logits = logits)\n",
    "train_op = tf.train.AdamOptimizer(LR).minimize(loss)"
   ]
  },
  {
   "cell_type": "code",
   "execution_count": 61,
   "metadata": {},
   "outputs": [],
   "source": [
    "accuracy = tf.metrics.accuracy(labels=tf.argmax(tf_y, axis=1), predictions=tf.argmax(logits, axis=1),)[1]"
   ]
  },
  {
   "cell_type": "code",
   "execution_count": null,
   "metadata": {},
   "outputs": [],
   "source": [
    "test_x = mnist.test.images[:2000]\n",
    "test_y = mnist.test.labels[:2000]"
   ]
  },
  {
   "cell_type": "code",
   "execution_count": 87,
   "metadata": {},
   "outputs": [],
   "source": [
    "sess= tf.Session()\n",
    "init_op = tf.group(tf.global_variables_initializer(), tf.local_variables_initializer())\n",
    "sess.run(init_op)"
   ]
  },
  {
   "cell_type": "code",
   "execution_count": 88,
   "metadata": {},
   "outputs": [
    {
     "name": "stdout",
     "output_type": "stream",
     "text": [
      "Step: 0 | train loss: 2.2995 | test accuracy: 0.14\n",
      "Step: 50 | train loss: 0.2973 | test accuracy: 0.52\n",
      "Step: 100 | train loss: 0.3542 | test accuracy: 0.65\n",
      "Step: 150 | train loss: 0.1757 | test accuracy: 0.73\n",
      "Step: 200 | train loss: 0.1095 | test accuracy: 0.77\n",
      "Step: 250 | train loss: 0.1670 | test accuracy: 0.81\n",
      "Step: 300 | train loss: 0.0380 | test accuracy: 0.83\n",
      "Step: 350 | train loss: 0.0555 | test accuracy: 0.85\n",
      "Step: 400 | train loss: 0.0710 | test accuracy: 0.86\n",
      "Step: 450 | train loss: 0.0959 | test accuracy: 0.87\n",
      "Step: 500 | train loss: 0.0981 | test accuracy: 0.88\n",
      "Step: 550 | train loss: 0.0257 | test accuracy: 0.89\n",
      "Step: 600 | train loss: 0.0021 | test accuracy: 0.90\n",
      "Step: 650 | train loss: 0.0574 | test accuracy: 0.90\n",
      "Step: 700 | train loss: 0.0666 | test accuracy: 0.91\n",
      "Step: 750 | train loss: 0.1046 | test accuracy: 0.91\n",
      "Step: 800 | train loss: 0.1300 | test accuracy: 0.92\n",
      "Step: 850 | train loss: 0.0831 | test accuracy: 0.92\n",
      "Step: 900 | train loss: 0.0259 | test accuracy: 0.92\n",
      "Step: 950 | train loss: 0.0470 | test accuracy: 0.92\n",
      "Step: 1000 | train loss: 0.0291 | test accuracy: 0.93\n"
     ]
    }
   ],
   "source": [
    "\n",
    "for step in range(1001):\n",
    "    b_x, b_y = mnist.train.next_batch(BATCH_SIZE)\n",
    "    _, loss_ = sess.run([train_op, loss], {tf_x: b_x, tf_y: b_y,dropout_placeholder: 0.25})\n",
    "    if step % 50 == 0:\n",
    "        accuracy_, flat_representation = sess.run([accuracy, flat], {tf_x: test_x, tf_y: test_y})\n",
    "        print('Step:', step, '| train loss: %.4f' % loss_, '| test accuracy: %.2f' % accuracy_)"
   ]
  },
  {
   "cell_type": "code",
   "execution_count": 89,
   "metadata": {},
   "outputs": [
    {
     "name": "stdout",
     "output_type": "stream",
     "text": [
      "[7 2 1 0 4 1 4 9 5 9] prediction number\n",
      "[7 2 1 0 4 1 4 9 5 9] real number\n"
     ]
    }
   ],
   "source": [
    "test_output = sess.run(logits,{tf_x:test_x[:10]})\n",
    "pred_y = np.argmax(test_output,1)\n",
    "print(pred_y, 'prediction number')\n",
    "print(np.argmax(test_y[:10],1), 'real number')"
   ]
  },
  {
   "cell_type": "code",
   "execution_count": 90,
   "metadata": {},
   "outputs": [],
   "source": [
    "sess.close()"
   ]
  },
  {
   "cell_type": "code",
   "execution_count": null,
   "metadata": {},
   "outputs": [],
   "source": []
  }
 ],
 "metadata": {
  "kernelspec": {
   "display_name": "Python 3",
   "language": "python",
   "name": "python3"
  },
  "language_info": {
   "codemirror_mode": {
    "name": "ipython",
    "version": 3
   },
   "file_extension": ".py",
   "mimetype": "text/x-python",
   "name": "python",
   "nbconvert_exporter": "python",
   "pygments_lexer": "ipython3",
   "version": "3.6.4"
  }
 },
 "nbformat": 4,
 "nbformat_minor": 2
}
